{
 "cells": [
  {
   "cell_type": "markdown",
   "metadata": {},
   "source": [
    "# Lab: Describing Your Data"
   ]
  },
  {
   "cell_type": "markdown",
   "metadata": {},
   "source": [
    "## Descriptive statistics\n",
    "Let's begin by opening the Nominate data for the 116th Congress ([Lewis et al. 2020](https://voteview.com/)). The goal of today's lab is to learn how to describe our data through calculations of central tendancy and dispersion, and how to create simple tables to present such statistics for your readers. Along the way, we will learn how to run a command while suppressing output, how to use the ***display*** command to call up stored information and print it with text, briefly experience using _local macros_ and _matrices_ in Stata, and how to write tables to an Excel file using ***putexcel***. Ready? Ok - let's get started! Open the dataset and use the ***describe*** command to print your variables. "
   ]
  },
  {
   "cell_type": "markdown",
   "metadata": {},
   "source": [
    "_NOTE:_ If you do not already have the Nominate data downloaded, converted to Stata format, and saved to your computer, please see [this](https://1drv.ms/u/s!AoMlGxENaX1xpblmS2X4Ehh5CK1VLw?e=cAfj7I) before proceeding. Current students should already have the file. "
   ]
  },
  {
   "cell_type": "code",
   "execution_count": 1,
   "metadata": {},
   "outputs": [],
   "source": [
    "* Be sure to set your working directory - where you have saved \n",
    "*   your files and to where you want to write new files. Example:\n",
    "*   cd \"c:\\myfolder\\\" \n",
    "\n",
    "use HS116_members.dta, clear"
   ]
  },
  {
   "cell_type": "markdown",
   "metadata": {},
   "source": [
    "What variables are included in this dataset?"
   ]
  },
  {
   "cell_type": "code",
   "execution_count": 2,
   "metadata": {},
   "outputs": [
    {
     "name": "stdout",
     "output_type": "stream",
     "text": [
      "\n",
      "Contains data from HS116_members.dta\n",
      "  obs:           544                          \n",
      " vars:            22                          25 Aug 2020 15:22\n",
      " size:        54,944                          \n",
      "--------------------------------------------------------------------------------\n",
      "              storage   display    value\n",
      "variable name   type    format     label      variable label\n",
      "--------------------------------------------------------------------------------\n",
      "congress        int     %8.0g                 \n",
      "chamber         str6    %9s                   \n",
      "icpsr           long    %12.0g                \n",
      "state_icpsr     byte    %8.0g                 \n",
      "district_code   byte    %8.0g                 \n",
      "state_abbrev    str2    %9s                   \n",
      "party_code      int     %8.0g                 \n",
      "occupancy       byte    %8.0g                 \n",
      "last_means      byte    %8.0g                 \n",
      "bioname         str42   %42s                  \n",
      "bioguide_id     str7    %9s                   \n",
      "born            int     %8.0g                 \n",
      "died            byte    %8.0g                 \n",
      "nominate_dim1   float   %9.0g                 \n",
      "nominate_dim2   float   %9.0g                 \n",
      "nominate_log_~d float   %9.0g                 \n",
      "nominate_geo_~y float   %9.0g                 \n",
      "nominate_num~es int     %8.0g                 \n",
      "nominate_num~rs int     %8.0g                 \n",
      "conditional     byte    %8.0g                 \n",
      "nokken_poole_~1 float   %9.0g                 \n",
      "nokken_poole_~2 float   %9.0g                 \n",
      "--------------------------------------------------------------------------------\n",
      "Sorted by: \n"
     ]
    }
   ],
   "source": [
    "describe"
   ]
  },
  {
   "cell_type": "markdown",
   "metadata": {},
   "source": [
    "There are various commands useful to describe your variables, including the ***tab***, ***summarize***, and ***tabstat*** commands. \n",
    "### tabulate\n",
    "The ***tabulate*** command presents one-way and two-way frequency tables, along with a range of other functions. We can use ***tabulate*** to view variable values, the percent of cases with a given value, and cumulative precentages. "
   ]
  },
  {
   "cell_type": "code",
   "execution_count": 3,
   "metadata": {},
   "outputs": [
    {
     "name": "stdout",
     "output_type": "stream",
     "text": [
      "\n",
      "\n",
      "state_abbre |\n",
      "          v |      Freq.     Percent        Cum.\n",
      "------------+-----------------------------------\n",
      "         AK |          3        0.55        0.55\n",
      "         AL |          9        1.65        2.21\n",
      "         AR |          6        1.10        3.31\n",
      "         AZ |         11        2.02        5.33\n",
      "         CA |         56       10.29       15.63\n",
      "         CO |          9        1.65       17.28\n",
      "         CT |          7        1.29       18.57\n",
      "         DE |          3        0.55       19.12\n",
      "         FL |         29        5.33       24.45\n",
      "         GA |         17        3.13       27.57\n",
      "         HI |          4        0.74       28.31\n",
      "         IA |          6        1.10       29.41\n",
      "         ID |          4        0.74       30.15\n",
      "         IL |         20        3.68       33.82\n",
      "         IN |         11        2.02       35.85\n",
      "         KS |          6        1.10       36.95\n",
      "         KY |          8        1.47       38.42\n",
      "         LA |          8        1.47       39.89\n",
      "         MA |         11        2.02       41.91\n",
      "         MD |         11        2.02       43.93\n",
      "         ME |          4        0.74       44.67\n",
      "         MI |         17        3.13       47.79\n",
      "         MN |         10        1.84       49.63\n",
      "         MO |         10        1.84       51.47\n",
      "         MS |          6        1.10       52.57\n",
      "         MT |          3        0.55       53.12\n",
      "         NC |         16        2.94       56.07\n",
      "         ND |          3        0.55       56.62\n",
      "         NE |          5        0.92       57.54\n",
      "         NH |          4        0.74       58.27\n",
      "         NJ |         15        2.76       61.03\n",
      "         NM |          5        0.92       61.95\n",
      "         NV |          6        1.10       63.05\n",
      "         NY |         30        5.51       68.57\n",
      "         OH |         18        3.31       71.88\n",
      "         OK |          7        1.29       73.16\n",
      "         OR |          7        1.29       74.45\n",
      "         PA |         21        3.86       78.31\n",
      "         RI |          4        0.74       79.04\n",
      "         SC |          9        1.65       80.70\n",
      "         SD |          3        0.55       81.25\n",
      "         TN |         11        2.02       83.27\n",
      "         TX |         38        6.99       90.26\n",
      "         UT |          6        1.10       91.36\n",
      "         VA |         13        2.39       93.75\n",
      "         VT |          3        0.55       94.30\n",
      "         WA |         12        2.21       96.51\n",
      "         WI |         11        2.02       98.53\n",
      "         WV |          5        0.92       99.45\n",
      "         WY |          3        0.55      100.00\n",
      "------------+-----------------------------------\n",
      "      Total |        544      100.00\n",
      "\n",
      "\n"
     ]
    }
   ],
   "source": [
    "tab state_abbrev\n",
    "* or we could use \"if\" to select just Democrats or just Republicans\n",
    "*  the \"quietly\" prefix will surpress the output while still\n",
    "*  running the command\n",
    "quietly tab state_abbrev if party_code==100\n",
    "quietly tab state_abbrev if party_code==200"
   ]
  },
  {
   "cell_type": "markdown",
   "metadata": {},
   "source": [
    "There are various commands useful to describe your variables, including the tab, summarize, and table commands. \n",
    "### summarize\n",
    "***summarize*** a pre-set group of statistics on variables you list, like the mean, the standard deviation, and the number of observations. You can use ***summarize*** with one or more variables listed. When including the _detail_ option, Stata provides additional statistics, including the variance, the median, in lowest and highest observations. Using the _detail_ option also saves those additional statistics in Stata's memory as scalars that we can call up when needed using the ***display*** command. ***display*** can also be used to print information and make conduct calculations based on what is stored or new information we pass to Stata. "
   ]
  },
  {
   "cell_type": "code",
   "execution_count": 4,
   "metadata": {},
   "outputs": [
    {
     "name": "stdout",
     "output_type": "stream",
     "text": [
      "\n",
      "\n",
      "    Variable |        Obs        Mean    Std. Dev.       Min        Max\n",
      "-------------+---------------------------------------------------------\n",
      "nominate_d~1 |        544    .0506949    .4545393       -.77       .916\n",
      "\n",
      ".05069485\n"
     ]
    }
   ],
   "source": [
    "sum nominate_dim1\n",
    "display r(mean)"
   ]
  },
  {
   "cell_type": "code",
   "execution_count": 5,
   "metadata": {},
   "outputs": [
    {
     "name": "stdout",
     "output_type": "stream",
     "text": [
      "\n",
      "\n",
      "The mean Nominate score in the 116th Congress is .20269486 points greater than t\n",
      "> he median.\n"
     ]
    }
   ],
   "source": [
    "quietly sum nominate_dim1, detail\n",
    "display \"The mean Nominate score in the 116th Congress is \" r(mean) - r(p50) \" points greater than the median.\"\n"
   ]
  },
  {
   "cell_type": "markdown",
   "metadata": {},
   "source": [
    "Let's do one more example using ***summarize*** and ***display***. What proportion of Republicans in Congress could we consider as \"moderate\", defined as more liberal than two standard deviations below the GOP mean? To make our lives a bit easier, let's save the scalars from the ***summarize*** command as _local macros_ that we can call up later, even if run ***summarize*** again."
   ]
  },
  {
   "cell_type": "code",
   "execution_count": 6,
   "metadata": {},
   "outputs": [
    {
     "name": "stdout",
     "output_type": "stream",
     "text": [
      "\n",
      "\n",
      "Nominate mean = .50268077\n",
      "\n",
      "\n",
      "\n",
      "Average Republican Nominate Score: .50268077; Republican standard deviation: .14\n",
      "> 63517\n",
      "\n",
      "\n",
      "\n",
      "\n",
      "\n",
      "    Variable |        Obs        Mean    Std. Dev.       Min        Max\n",
      "-------------+---------------------------------------------------------\n",
      "nominate_d~1 |          5       .1646    .0327536       .112       .202\n",
      "\n",
      "Only 5 Republicans have Nominate scores lower (more liberal)than two standard de\n",
      "> viations below the mean GOP DW_Nominate score, .01923077 of the congressional \n",
      "> GOP.\n"
     ]
    }
   ],
   "source": [
    "quietly sum nominate_dim1 if party_code==200, detail\n",
    "display \"Nominate mean = \" r(mean)\n",
    "local mn_gop = r(mean)\n",
    "local sd_gop = r(sd)\n",
    "\n",
    "* We can access the local macro by enclosing the name in single quotes\n",
    "display \"Average Republican Nominate Score: \" `mn_gop' \"; \" /// \n",
    "    \"Republican standard deviation: \" `sd_gop'\n",
    "\n",
    "* Let's use the local macro \"threshold\" to hold the value of two \n",
    "*   standard deviations below the mean\n",
    "local threshold = `mn_gop' - 2*`sd_gop'\n",
    "\n",
    "quietly sum nominate_dim1 if party_code==200\n",
    "quietly local obs_gop = r(N)\n",
    " \n",
    "sum nominate_dim1 if party_code==200 & nominate_dim1<=`threshold'\n",
    "\n",
    "* notice that I have shortened the display command to just di. \n",
    "*   Since there is no other command starting with di, this will work. \n",
    "di \"Only \" r(N) \" Republicans have Nominate scores lower (more liberal)\"  ///\n",
    "    \"than two standard deviations below the mean GOP DW_Nominate score, \" ///\n",
    "    r(N) / `obs_gop' \" of the congressional GOP.\""
   ]
  },
  {
   "cell_type": "markdown",
   "metadata": {},
   "source": [
    "### tabstat\n",
    "Another option for creating tables of descriptive statistics is ***tabstat***, which offers the user the ability to choose which statistics she would like to include in the table, each calculated on whatever variables we choose. Let's make a table of descriptive statistics with Lewis et al.'s first and second-dimension Nominate scores as well as the Nokken and Poole scores"
   ]
  },
  {
   "cell_type": "code",
   "execution_count": 7,
   "metadata": {},
   "outputs": [
    {
     "name": "stdout",
     "output_type": "stream",
     "text": [
      "\n",
      "\n",
      "    variable |         N      mean       p50        sd       min       max\n",
      "-------------+------------------------------------------------------------\n",
      "nominate_d~1 |       544  .0506949     -.152  .4545393      -.77      .916\n",
      "nominate_d~2 |       544  .0205331     .0165  .2997723     -.975      .879\n",
      "nokken_poo~1 |       543  .0450331     -.157  .4637939     -.808         1\n",
      "nokken_poo~2 |       543  .0405285      .053  .3298611     -.975      .879\n",
      "--------------------------------------------------------------------------\n"
     ]
    }
   ],
   "source": [
    "* this command will tell Stata to calculate the range of statitics listed\n",
    "*   in the statistics() option\n",
    "* by adding the \"save\" option, we can allow the table results to be accessed later\n",
    "tabstat nominate_dim1 nominate_dim2 nokken_poole_dim1 nokken_poole_dim2, statistics(n mean median sd min max) columns(statistics) save"
   ]
  },
  {
   "cell_type": "markdown",
   "metadata": {},
   "source": [
    "## Exporting Tables for Editing\n",
    "\n",
    "That's nice, but this would be more useful for us if we could export the table to a program like Microsoft Excel so that it could easily be copied, edited, and inserted into a paper. We can use Stata's ***putexcel*** command to do so, but bear with me: it's clunky. First, we'll need to tell Stata what Excel file we are going to use. "
   ]
  },
  {
   "cell_type": "code",
   "execution_count": 8,
   "metadata": {},
   "outputs": [
    {
     "name": "stdout",
     "output_type": "stream",
     "text": [
      "\n",
      "\n",
      "Note: file will be replaced when the first putexcel command is issued\n"
     ]
    }
   ],
   "source": [
    "*re-run the tabstat command, this time with the \"quietly\" prefix to suppress the output\n",
    "quietly tabstat nominate_dim1 nominate_dim2 nokken_poole_dim1 nokken_poole_dim2, statistics(n mean median sd min max) columns(statistics) save\n",
    "\n",
    "* remember, creating files works better when you have set your \n",
    "*   working directory using the \"cd\" command first\n",
    "putexcel set lab_tables.xlsx, replace"
   ]
  },
  {
   "cell_type": "markdown",
   "metadata": {},
   "source": [
    "Now, Stata has saved the results from the ***tabstat*** command as a matrix called _r(StatTotal)_ but has saved the variables in the columns and the statistics in the rows. Following Chuck Huber's model [here](https://blog.stata.com/2017/01/24/creating-excel-tables-with-putexcel-part-2-macro-picture-matrix-and-formula-expressions/), let's create a new matrix which will transpose the columns and cells, and call the new matrix _tableresults_. Then we can use the ***putexcel*** command to save our table into an Excel worksheet."
   ]
  },
  {
   "cell_type": "code",
   "execution_count": 9,
   "metadata": {},
   "outputs": [
    {
     "name": "stdout",
     "output_type": "stream",
     "text": [
      "\n",
      "\n",
      "file lab_tables.xlsx saved\n"
     ]
    }
   ],
   "source": [
    "* The ' at the end of this command transposes the r(StatTotal) matrix\n",
    "matrix define tableresults = r(StatTotal)'\n",
    "\n",
    "* The \"B2\" part of the command sets the top left cell of the table\n",
    "* The \"names\" option will include the row and column headers\n",
    "* Make sure you do not have the Excel sheet open or Stata will not\n",
    "*   be able to write to the file\n",
    "putexcel B2 = matrix(tableresults), names"
   ]
  },
  {
   "attachments": {
    "33998973-fb25-4184-af60-8a897e7c27ec.png": {
     "image/png": "[encoded data removed]"
    }
   },
   "cell_type": "markdown",
   "metadata": {},
   "source": [
    "Now, check out your file! Here's what mine looks like: \n",
    "\n",
    "![image.png](attachment:33998973-fb25-4184-af60-8a897e7c27ec.png)"
   ]
  }
 ],
 "metadata": {
  "kernelspec": {
   "display_name": "Stata",
   "language": "stata",
   "name": "stata"
  },
  "language_info": {
   "codemirror_mode": "stata",
   "file_extension": ".do",
   "mimetype": "text/x-stata",
   "name": "stata",
   "version": "15.1"
  }
 },
 "nbformat": 4,
 "nbformat_minor": 4
}
