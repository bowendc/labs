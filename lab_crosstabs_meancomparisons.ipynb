{
 "cells": [
  {
   "cell_type": "markdown",
   "metadata": {},
   "source": [
    "# Crosstabs and Mean Comparisons"
   ]
  },
  {
   "cell_type": "markdown",
   "metadata": {},
   "source": [
    "In previous labs, we have covered describing our data and simple data cleaning and variable creation in Stata. Now let's move on to comparing values of two variables together. We will focus on two simple methods, cross-tabulations and mean comparisons. Both methods are used when you have independent variables with categorical or ordinal values. Crosstabs are used when the dependent variable is also categorical or ordinal, while mean comparisons can be used when the dependent variable is continuous/interval or is a dummy/dichotomous variable. "
   ]
  },
  {
   "cell_type": "markdown",
   "metadata": {},
   "source": [
    "For this lab, we will use the July 2020 AP-NORC Poll, available from the Roper Center. See the instructions for downloading and accessing the data from [the previous lab](https://nbviewer.jupyter.org/github/bowendc/labs/blob/master/lab_cleaningandcoding.ipynb). \n",
    "\n",
    "First hypothesis: respondents exposed to the coronavirus are more likely to support closing bars and restaurants than are those who have not been exposed.\n",
    "\n",
    "Second hypothesis: respondents worried about the coronavirus infection are more likely to say the country is headed in the wrong direction. \n",
    "\n",
    "Third hypothesis: respondents experiencing economic hardship are more likely to say the country is headed in the wrong direction. \n"
   ]
  },
  {
   "cell_type": "code",
   "execution_count": 24,
   "metadata": {},
   "outputs": [],
   "source": [
    "* Change the file path below to the appropriate working directory for your machine\n",
    "quietly cd c:\\Users\\bowen\\OneDrive\\Courses\\Political_Analysis\\Labs\\F2020\\\n",
    "quietly use 31117583.dta, clear "
   ]
  },
  {
   "cell_type": "code",
   "execution_count": 25,
   "metadata": {
    "collapsed": true,
    "jupyter": {
     "outputs_hidden": true
    }
   },
   "outputs": [
    {
     "name": "stdout",
     "output_type": "stream",
     "text": [
      "\n",
      "\n",
      "--------------------------------------------------------------------------------\n",
      "CUR1                                   CUR1: Generally speaking, would you say\n",
      "                                       things in this country are heading in th\n",
      "--------------------------------------------------------------------------------\n",
      "\n",
      "                  type:  numeric (byte)\n",
      "                 label:  CUR1\n",
      "\n",
      "                 range:  [1,99]                       units:  1\n",
      "         unique values:  3                        missing .:  0/1,057\n",
      "\n",
      "            tabulation:  Freq.   Numeric  Label\n",
      "                           197         1  (1) Right direction\n",
      "                           851         2  (2) Wrong direction\n",
      "                             9        99  (99) DON'T KNOW/SKIPPED ON\n",
      "                                          WEB/REFUSED (VOL)\n",
      "\n",
      "(860 differences between CUR1 and rightdir)\n",
      "\n",
      "\n",
      "--------------------------------------------------------------------------------\n",
      "politics                               POLITICS: Do you consider yourself a\n",
      "                                       Democrat, a Republican, an independent or\n",
      "                                       n\n",
      "--------------------------------------------------------------------------------\n",
      "\n",
      "                  type:  numeric (byte)\n",
      "                 label:  POLITICS\n",
      "\n",
      "                 range:  [1,99]                       units:  1\n",
      "         unique values:  5                        missing .:  0/1,057\n",
      "\n",
      "            tabulation:  Freq.   Numeric  Label\n",
      "                           347         1  (1) Democrat\n",
      "                           324         2  (2) Republican\n",
      "                           258         3  (3) Independent\n",
      "                           119         4  (4) None of these\n",
      "                             9        99  (99) DON'T KNOW/SKIPPED ON\n",
      "                                          WEB/REFUSED (VOL)\n",
      "\n",
      "--------------------------------------------------------------------------------\n",
      "B2AB                                   B2AB: And how would you describe the\n",
      "                                       financial situation in your own household\n",
      "                                       t\n",
      "--------------------------------------------------------------------------------\n",
      "\n",
      "                  type:  numeric (byte)\n",
      "                 label:  B2AB\n",
      "\n",
      "                 range:  [1,7]                        units:  1\n",
      "         unique values:  7                        missing .:  0/1,057\n",
      "\n",
      "            tabulation:  Freq.   Numeric  Label\n",
      "                           168         1  (1) Very good\n",
      "                           359         2  (2) Somewhat good\n",
      "                           188         3  (3) Lean toward good\n",
      "                             1         4  (4) Neither good nor poor\n",
      "                           133         5  (5) Lean toward poor\n",
      "                           146         6  (6) Somewhat poor\n",
      "                            62         7  (7) Very poor\n",
      "\n",
      "\n",
      "--------------------------------------------------------------------------------\n",
      "VIRUS2A                                VIRUS2A: [The coronavirus] How worried\n",
      "                                       are you about you or someone in your fami\n",
      "--------------------------------------------------------------------------------\n",
      "\n",
      "                  type:  numeric (byte)\n",
      "                 label:  VIRUS2A\n",
      "\n",
      "                 range:  [1,99]                       units:  1\n",
      "         unique values:  6                        missing .:  0/1,057\n",
      "\n",
      "            tabulation:  Freq.   Numeric  Label\n",
      "                           266         1  (1) Extremely worried\n",
      "                           239         2  (2) Very worried\n",
      "                           329         3  (3) Somewhat worried\n",
      "                           138         4  (4) Not too worried\n",
      "                            82         5  (5) Not at all worried\n",
      "                             3        99  (99) DON'T KNOW/SKIPPED ON\n",
      "                                          WEB/REFUSED (VOL)\n",
      "\n",
      "(728 differences between VIRUS2A and worried)\n",
      "\n",
      "\n",
      "--------------------------------------------------------------------------------\n",
      "VIRUS7A                                VIRUS7A: [Requiring bars and restaurants\n",
      "                                       to close] In response to the coronaviru\n",
      "--------------------------------------------------------------------------------\n",
      "\n",
      "                  type:  numeric (byte)\n",
      "                 label:  VIRUS7A\n",
      "\n",
      "                 range:  [1,99]                       units:  1\n",
      "         unique values:  6                        missing .:  0/1,057\n",
      "\n",
      "            tabulation:  Freq.   Numeric  Label\n",
      "                           290         1  (1) Strongly favor\n",
      "                           272         2  (2) Somewhat favor\n",
      "                           170         3  (3) Neither favor nor oppose\n",
      "                           193         4  (4) Somewhat oppose\n",
      "                           127         5  (5) Strongly oppose\n",
      "                             5        99  (99) DON'T KNOW/SKIPPED ON\n",
      "                                          WEB/REFUSED (VOL)\n",
      "\n",
      "(887 differences between VIRUS7A and closebars)\n",
      "\n",
      "(777 differences between VIRUS14 and gotcorona)\n"
     ]
    }
   ],
   "source": [
    "* Recode the variables we'll use in the analysis, making sure to code\n",
    "*   missing data as periods (.)\n",
    "*   We can also specify value labels directly in the recode command if\n",
    "*   we are creating a new variable using the \"gen\" option\n",
    "\n",
    "codebook CUR1 \n",
    "recode CUR1 (1=1 \"Right direction\")(2=0 \"Wrong direction\")(99=.), gen(rightdir)\n",
    "codebook politics B2AB\n",
    "codebook VIRUS2A\n",
    "recode VIRUS2A (1=5 \"Extremely Worried\")(2=4)(3=3 \"Somewhat worried\")(4=2)(5=1 \"Not at all worried\")(99=.), gen(worried)\n",
    "codebook VIRUS7A \n",
    "recode VIRUS7A (1=5 \"Strongly favor\")(2=4)(3=3 \"Neither favor nor oppose\")(4=2)(5=1 \"Strongly Oppose\")(99=.), gen(closebars)\n",
    "recode VIRUS14 (1=1 \"Yes\")(2=0 \"No\")(99=.), gen(gotcorona)"
   ]
  },
  {
   "cell_type": "markdown",
   "metadata": {},
   "source": [
    "## Crosstabs"
   ]
  },
  {
   "cell_type": "markdown",
   "metadata": {},
   "source": [
    "We can create a crosstab by using the ***tab2*** command. Alternatively, we can simply use ***tab*** with two variables listed. A crosstab is a two-way frequency table. It shows how your observations are jointly distributed across both variables. We can use such a table to evaluate the relationship between X and Y by seeing how the values of your Y variable become more (or less) likely as you change categories of the X variable. Be sure to specify the _col_ option to calculate column percentages. Crosstabs are interpreted by reading columns within a row. "
   ]
  },
  {
   "cell_type": "code",
   "execution_count": 26,
   "metadata": {},
   "outputs": [
    {
     "name": "stdout",
     "output_type": "stream",
     "text": [
      "\n",
      "+-------------------+\n",
      "| Key               |\n",
      "|-------------------|\n",
      "|     frequency     |\n",
      "| column percentage |\n",
      "+-------------------+\n",
      "\n",
      "                      |   RECODE of VIRUS14\n",
      "    RECODE of VIRUS7A | (VIRUS14: Have you or\n",
      " (VIRUS7A: [Requiring | has a close friend or\n",
      " bars and restaurants |  relative been diag\n",
      " to close] In respons |        No        Yes |     Total\n",
      "----------------------+----------------------+----------\n",
      "      Strongly Oppose |       100         27 |       127 \n",
      "                      |     13.09       9.64 |     12.16 \n",
      "----------------------+----------------------+----------\n",
      "                    2 |       142         50 |       192 \n",
      "                      |     18.59      17.86 |     18.39 \n",
      "----------------------+----------------------+----------\n",
      "Neither favor nor opp |       130         39 |       169 \n",
      "                      |     17.02      13.93 |     16.19 \n",
      "----------------------+----------------------+----------\n",
      "                    4 |       194         76 |       270 \n",
      "                      |     25.39      27.14 |     25.86 \n",
      "----------------------+----------------------+----------\n",
      "       Strongly favor |       198         88 |       286 \n",
      "                      |     25.92      31.43 |     27.39 \n",
      "----------------------+----------------------+----------\n",
      "                Total |       764        280 |     1,044 \n",
      "                      |    100.00     100.00 |    100.00 \n"
     ]
    }
   ],
   "source": [
    "* SYNTAX: tab dv iv, col\n",
    "tab closebars gotcorona, col"
   ]
  },
  {
   "cell_type": "markdown",
   "metadata": {},
   "source": [
    "## Mean Comparisons"
   ]
  },
  {
   "cell_type": "markdown",
   "metadata": {},
   "source": [
    "Mean comparison tests follow a similar logic. What happens to the mean of the dependent variable when we change categories of the independent variable? Does the average value of the DV change in the hypothesized way? We can conduct a mean comparison test also using the ***tab*** command, this time with the ***sum*** option. The IV should be categorical or ordinal, and the DV should be continuous or a dummy variable."
   ]
  },
  {
   "cell_type": "code",
   "execution_count": 29,
   "metadata": {},
   "outputs": [
    {
     "name": "stdout",
     "output_type": "stream",
     "text": [
      "\n",
      "\n",
      " RECODE of CUR1 |\n",
      "         (CUR1: |\n",
      "      Generally |\n",
      "speaking, would |\n",
      " you say things |\n",
      "in this country |\n",
      "              a |      Freq.     Percent        Cum.\n",
      "----------------+-----------------------------------\n",
      "Wrong direction |        851       81.20       81.20\n",
      "Right direction |        197       18.80      100.00\n",
      "----------------+-----------------------------------\n",
      "          Total |      1,048      100.00\n",
      "\n",
      "\n",
      "  RECODE of |\n",
      "    VIRUS2A |\n",
      "  (VIRUS2A: |\n",
      "       [The |\n",
      "coronavirus |\n",
      "      ] How |  Summary of RECODE of CUR1 (CUR1:\n",
      "worried are |  Generally speaking, would you say\n",
      "  you about |      things in this country a\n",
      "   you or s |        Mean   Std. Dev.       Freq.\n",
      "------------+------------------------------------\n",
      "  Not at al |       .2375     .428236          80\n",
      "          2 |   .30434783   .46180692         138\n",
      "  Somewhat  |   .22769231    .4199896         325\n",
      "          4 |   .13445378   .34185816         238\n",
      "  Extremely |   .10984848   .31329473         264\n",
      "------------+------------------------------------\n",
      "      Total |   .18755981   .39054716       1,045\n"
     ]
    }
   ],
   "source": [
    "tab rightdir\n",
    "\n",
    "* SYNTAX: tab iv, sum(dv)\n",
    "tab worried, sum(rightdir)"
   ]
  },
  {
   "cell_type": "code",
   "execution_count": 28,
   "metadata": {},
   "outputs": [
    {
     "name": "stdout",
     "output_type": "stream",
     "text": [
      "\n",
      "  B2AB: And |\n",
      "  how would |\n",
      "        you |\n",
      "   describe |\n",
      "        the |\n",
      "  financial |  Summary of RECODE of CUR1 (CUR1:\n",
      "  situation |  Generally speaking, would you say\n",
      "in your own |      things in this country a\n",
      "household t |        Mean   Std. Dev.       Freq.\n",
      "------------+------------------------------------\n",
      "  (1) Very  |   .32738095   .47066043         168\n",
      "  (2) Somew |   .22033898   .41506189         354\n",
      "  (3) Lean  |   .16216216   .36959978         185\n",
      "  (4) Neith |           1           0           1\n",
      "  (5) Lean  |   .09774436   .29809145         133\n",
      "  (6) Somew |   .07586207   .26569507         145\n",
      "  (7) Very  |   .14516129   .35513905          62\n",
      "------------+------------------------------------\n",
      "      Total |    .1879771   .39088042       1,048\n"
     ]
    }
   ],
   "source": [
    " * What about the economy?\n",
    "tab B2AB\n",
    "tab B2AB, sum(rightdir)"
   ]
  },
  {
   "cell_type": "markdown",
   "metadata": {},
   "source": [
    "## Accounting for Confounding Variable Z"
   ]
  },
  {
   "cell_type": "markdown",
   "metadata": {},
   "source": [
    "There are several ways to \"control\" for a confounding variable. In a crosstab or mean comparison, we could hold the categories of the Z variable constant and look at the relationship between X and Y inside each category of Z. Let's do this for both the crosstab test (controlling for gender) and the mean comparison (controlling for political party). "
   ]
  },
  {
   "cell_type": "code",
   "execution_count": 40,
   "metadata": {},
   "outputs": [
    {
     "name": "stdout",
     "output_type": "stream",
     "text": [
      "\n",
      "-----------------------------------------------------------------------------------\n",
      "gender                                                               GENDER: Gender\n",
      "-----------------------------------------------------------------------------------\n",
      "\n",
      "                  type:  numeric (byte)\n",
      "                 label:  GENDER\n",
      "\n",
      "                 range:  [1,2]                        units:  1\n",
      "         unique values:  2                        missing .:  0/1,057\n",
      "\n",
      "            tabulation:  Freq.   Numeric  Label\n",
      "                           423         1  (1) Male\n",
      "                           634         2  (2) Female\n"
     ]
    }
   ],
   "source": [
    "* Perhaps the simplest way to control for Z is to run the \n",
    "*   crosstab command multiple times, each time selecting \n",
    "*   different categories of Z:\n",
    "\n",
    "* Let's look at the values of Z\n",
    "codebook gender"
   ]
  },
  {
   "cell_type": "code",
   "execution_count": 34,
   "metadata": {},
   "outputs": [
    {
     "name": "stdout",
     "output_type": "stream",
     "text": [
      "\n",
      "\n",
      "+-------------------+\n",
      "| Key               |\n",
      "|-------------------|\n",
      "|     frequency     |\n",
      "| column percentage |\n",
      "+-------------------+\n",
      "\n",
      "                      |   RECODE of VIRUS14\n",
      "    RECODE of VIRUS7A | (VIRUS14: Have you or\n",
      " (VIRUS7A: [Requiring | has a close friend or\n",
      " bars and restaurants |  relative been diag\n",
      " to close] In respons |        No        Yes |     Total\n",
      "----------------------+----------------------+----------\n",
      "      Strongly Oppose |        50         11 |        61 \n",
      "                      |     15.43      11.46 |     14.52 \n",
      "----------------------+----------------------+----------\n",
      "                    2 |        61         17 |        78 \n",
      "                      |     18.83      17.71 |     18.57 \n",
      "----------------------+----------------------+----------\n",
      "Neither favor nor opp |        46         21 |        67 \n",
      "                      |     14.20      21.88 |     15.95 \n",
      "----------------------+----------------------+----------\n",
      "                    4 |        87         19 |       106 \n",
      "                      |     26.85      19.79 |     25.24 \n",
      "----------------------+----------------------+----------\n",
      "       Strongly favor |        80         28 |       108 \n",
      "                      |     24.69      29.17 |     25.71 \n",
      "----------------------+----------------------+----------\n",
      "                Total |       324         96 |       420 \n",
      "                      |    100.00     100.00 |    100.00 \n",
      "\n",
      "\n",
      "+-------------------+\n",
      "| Key               |\n",
      "|-------------------|\n",
      "|     frequency     |\n",
      "| column percentage |\n",
      "+-------------------+\n",
      "\n",
      "                      |   RECODE of VIRUS14\n",
      "    RECODE of VIRUS7A | (VIRUS14: Have you or\n",
      " (VIRUS7A: [Requiring | has a close friend or\n",
      " bars and restaurants |  relative been diag\n",
      " to close] In respons |        No        Yes |     Total\n",
      "----------------------+----------------------+----------\n",
      "      Strongly Oppose |        50         16 |        66 \n",
      "                      |     11.36       8.70 |     10.58 \n",
      "----------------------+----------------------+----------\n",
      "                    2 |        81         33 |       114 \n",
      "                      |     18.41      17.93 |     18.27 \n",
      "----------------------+----------------------+----------\n",
      "Neither favor nor opp |        84         18 |       102 \n",
      "                      |     19.09       9.78 |     16.35 \n",
      "----------------------+----------------------+----------\n",
      "                    4 |       107         57 |       164 \n",
      "                      |     24.32      30.98 |     26.28 \n",
      "----------------------+----------------------+----------\n",
      "       Strongly favor |       118         60 |       178 \n",
      "                      |     26.82      32.61 |     28.53 \n",
      "----------------------+----------------------+----------\n",
      "                Total |       440        184 |       624 \n",
      "                      |    100.00     100.00 |    100.00 \n"
     ]
    }
   ],
   "source": [
    "* Now let's re-run our cross tab, once for women and once for men\n",
    "*    using \"if\" to select each categories\n",
    "tab closebars gotcorona if gender==1, col\n",
    "tab closebars gotcorona if gender==2, col"
   ]
  },
  {
   "cell_type": "markdown",
   "metadata": {},
   "source": [
    "We have a bit more flexibility with the mean comparison test, as Stata's ***tab*** command can be used to show the mean of the Y across the joint distribution of X and Z. For the purposes of this example, let's also select just those respondents who identify as either Democrats or Republicans."
   ]
  },
  {
   "cell_type": "code",
   "execution_count": 41,
   "metadata": {},
   "outputs": [
    {
     "name": "stdout",
     "output_type": "stream",
     "text": [
      "\n",
      "-----------------------------------------------------------------------------------\n",
      "politics                               POLITICS: Do you consider yourself a\n",
      "                                       Democrat, a Republican, an independent or n\n",
      "-----------------------------------------------------------------------------------\n",
      "\n",
      "                  type:  numeric (byte)\n",
      "                 label:  POLITICS\n",
      "\n",
      "                 range:  [1,99]                       units:  1\n",
      "         unique values:  5                        missing .:  0/1,057\n",
      "\n",
      "            tabulation:  Freq.   Numeric  Label\n",
      "                           347         1  (1) Democrat\n",
      "                           324         2  (2) Republican\n",
      "                           258         3  (3) Independent\n",
      "                           119         4  (4) None of these\n",
      "                             9        99  (99) DON'T KNOW/SKIPPED ON\n",
      "                                          WEB/REFUSED (VOL)\n"
     ]
    }
   ],
   "source": [
    "* let's see how our Z variable is coded\n",
    "codebook politics"
   ]
  },
  {
   "cell_type": "code",
   "execution_count": 38,
   "metadata": {},
   "outputs": [
    {
     "name": "stdout",
     "output_type": "stream",
     "text": [
      "\n",
      "                                   Means\n",
      "of RECODE of CUR1 (CUR1: Generally speaking, would you say things in this country a\n",
      "\n",
      " RECODE of |\n",
      "   VIRUS2A |\n",
      " (VIRUS2A: |\n",
      "      [The |\n",
      "coronaviru |  POLITICS: Do you\n",
      "    s] How | consider yourself a\n",
      "   worried |     Democrat, a\n",
      "   are you |   Republican, an\n",
      " about you |  independent or n\n",
      "      or s | (1) Democ  (2) Repub |     Total\n",
      "-----------+----------------------+----------\n",
      " Not at al |         0  .26190476 |       .22\n",
      "         2 | .18181818  .36486486 | .34117647\n",
      " Somewhat  | .13483146  .35833333 | .26315789\n",
      "         4 | .03846154  .31111111 | .12080537\n",
      " Extremely | .05263158  .24390244 | .09770115\n",
      "-----------+----------------------+----------\n",
      "     Total | .07246377  .32608696 | .19490255\n"
     ]
    }
   ],
   "source": [
    "* Mean comparison, controlling for party\n",
    "*   the \"nofreq\" and \"nostandard\" options suppress the \n",
    "*   frequencies and standard deviation output\n",
    "tab worried politics if politics ==1 | politics ==2, ///\n",
    "    sum(rightdir) nofreq nostandard"
   ]
  },
  {
   "cell_type": "markdown",
   "metadata": {},
   "source": [
    "We can run the controlled comparison again, this time looking at the relationship between economic well-being, party, and assessments of the direction of the country:"
   ]
  },
  {
   "cell_type": "code",
   "execution_count": 39,
   "metadata": {},
   "outputs": [
    {
     "name": "stdout",
     "output_type": "stream",
     "text": [
      "\n",
      "                                   Means\n",
      "of RECODE of CUR1 (CUR1: Generally speaking, would you say things in this country a\n",
      "\n",
      " B2AB: And |\n",
      " how would |\n",
      "       you |\n",
      "  describe |\n",
      "       the |\n",
      " financial |  POLITICS: Do you\n",
      " situation | consider yourself a\n",
      "   in your |     Democrat, a\n",
      "       own |   Republican, an\n",
      " household |  independent or n\n",
      "         t | (1) Democ  (2) Repub |     Total\n",
      "-----------+----------------------+----------\n",
      " (1) Very  | .10638298  .46835443 | .33333333\n",
      " (2) Somew |  .1010101  .33576642 | .23728814\n",
      " (3) Lean  | .05084746  .24137931 | .14529915\n",
      " (5) Lean  | .04347826  .15789474 | .07692308\n",
      " (6) Somew | .03225806         .2 | .08045977\n",
      " (7) Very  |    .09375         .2 | .10810811\n",
      "-----------+----------------------+----------\n",
      "     Total | .07246377  .32817337 | .19610778\n"
     ]
    }
   ],
   "source": [
    "tab B2AB politics if politics ==1 | politics ==2, ///\n",
    "    sum(rightdir) nofreq nostandard"
   ]
  },
  {
   "cell_type": "markdown",
   "metadata": {},
   "source": [
    "What do these results tell you about which issues are more salient for Democractic and Republican respondents, respectively?"
   ]
  }
 ],
 "metadata": {
  "kernelspec": {
   "display_name": "Stata",
   "language": "stata",
   "name": "stata"
  },
  "language_info": {
   "codemirror_mode": "stata",
   "file_extension": ".do",
   "mimetype": "text/x-stata",
   "name": "stata",
   "version": "15.1"
  }
 },
 "nbformat": 4,
 "nbformat_minor": 4
}
