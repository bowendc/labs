{
 "cells": [
  {
   "cell_type": "markdown",
   "metadata": {},
   "source": [
    "# Cleaning and Coding Your Data"
   ]
  },
  {
   "attachments": {
    "e59d8f32-e1ff-4f08-a791-dcc41d232274.png": {
     "image/png": "[encoded data removed]"
    }
   },
   "cell_type": "markdown",
   "metadata": {},
   "source": [
    "In this lab, we will be learning about basic data manipulation and cleaning tools in Stata. Before we can begin analyzing the relationship between our independent and dependent variables, we need to make sure variable coding matches the concepts we are trying to measure and is appropriate for the tests we are conducting. \n",
    "\n",
    "We will use public opinion data available from the Roper Center, a comprehensive repository of survey data. TCNJ has an institutional membership to Roper, so you can access and download the data. To access:\n",
    "1. Access Roper using your TCNJ institutional credentials [here](https://tcnj.primo.exlibrisgroup.com/permalink/01COLLNJ_INST/ouchcg/alma998912023405191).\n",
    "2. Search for study #31117583, the July 2020 AP-NORC Poll and select the \"Studies/Datasets\" tab.\n",
    "3. Click on the spreadsheet with the Stata icon to download the dataset: ![image.png](graphics\\Stata_roper_link2.png)\n",
    "![image.png](attachment:e59d8f32-e1ff-4f08-a791-dcc41d232274.png)\n",
    "4. Be sure to place 31117583.dta in a folder you can easily access. \n",
    "5. Set your working directory to that folder using the ***cd*** command.\n",
    "\n",
    "Now, let's get started!"
   ]
  },
  {
   "cell_type": "code",
   "execution_count": 17,
   "metadata": {},
   "outputs": [],
   "source": [
    "* Change the file path below to the appropriate working directory for your machine\n",
    "quietly cd c:\\Users\\bowen\\OneDrive\\Courses\\Political_Analysis\\Labs\\F2020\\\n",
    "quietly use 31117583.dta, clear "
   ]
  },
  {
   "cell_type": "markdown",
   "metadata": {},
   "source": [
    "## Creating and deleting variables"
   ]
  },
  {
   "cell_type": "markdown",
   "metadata": {},
   "source": [
    "### generate\n"
   ]
  },
  {
   "cell_type": "markdown",
   "metadata": {},
   "source": [
    "The ***generate*** command allows you to create new variables by setting the new variable to a specified value or values. We can refer to existing variables or call up built-in Stata functions to do so. "
   ]
  },
  {
   "cell_type": "code",
   "execution_count": 2,
   "metadata": {},
   "outputs": [
    {
     "name": "stdout",
     "output_type": "stream",
     "text": [
      "\n",
      "\n",
      "\n",
      "--------------------------------------------------------------------------------\n",
      "type                                                                 (unlabeled)\n",
      "--------------------------------------------------------------------------------\n",
      "\n",
      "                  type:  numeric (float)\n",
      "\n",
      "                 range:  [1,1]                        units:  1\n",
      "         unique values:  1                        missing .:  0/1,057\n",
      "\n",
      "            tabulation:  Freq.  Value\n",
      "                         1,057  1\n"
     ]
    }
   ],
   "source": [
    " * SYNTAX: gen some_new_name = some_value\n",
    "\n",
    " * first, let's create a numeric variable called \"type\"\n",
    " *   this code will give every observation the value of 1\n",
    "generate type = 1\n",
    "codebook type"
   ]
  },
  {
   "cell_type": "code",
   "execution_count": 3,
   "metadata": {},
   "outputs": [
    {
     "name": "stdout",
     "output_type": "stream",
     "text": [
      "\n",
      "\n",
      "\n",
      "--------------------------------------------------------------------------------\n",
      "category                                                             (unlabeled)\n",
      "--------------------------------------------------------------------------------\n",
      "\n",
      "                  type:  string (str7)\n",
      "\n",
      "         unique values:  1                        missing \"\":  0/1,057\n",
      "\n",
      "            tabulation:  Freq.  Value\n",
      "                         1,057  \"Group A\"\n",
      "\n",
      "               warning:  variable has embedded blanks\n"
     ]
    }
   ],
   "source": [
    " * second, let's create a string variable named \"category\"\n",
    " *   by enclosing the value in quotes\n",
    "generate category = \"Group A\"\n",
    "codebook category"
   ]
  },
  {
   "cell_type": "code",
   "execution_count": 15,
   "metadata": {},
   "outputs": [
    {
     "name": "stdout",
     "output_type": "stream",
     "text": [
      "\n",
      "\n",
      "\n",
      "    Variable |        Obs        Mean    Std. Dev.       Min        Max\n",
      "-------------+---------------------------------------------------------\n",
      "    randnumb |      1,057    .5157681    .2859402   .0014988    .999561\n"
     ]
    }
   ],
   "source": [
    " * third, let's create a new variable using Stata's random number function\n",
    " *   this command will set the new variable to a random number between\n",
    " *   0 and 1\n",
    "\n",
    " * note: you can shorten generate to gen\n",
    "gen randnumb = runiform()\n",
    "sum randnumb\n"
   ]
  },
  {
   "cell_type": "code",
   "execution_count": 16,
   "metadata": {},
   "outputs": [
    {
     "name": "stdout",
     "output_type": "stream",
     "text": [
      "\n",
      "\n",
      "\n",
      "\n",
      "    variable |         N      mean     range\n",
      "-------------+------------------------------\n",
      "    randnumb |      1057  .5157681  .9980622\n",
      "   randnumb2 |      1057  .0005158  .0009981\n",
      "  lnrandnumb |      1057 -.9525456  6.502634\n",
      "--------------------------------------------\n"
     ]
    }
   ],
   "source": [
    " * fourth, let's create a new variable that calls data from an existing variable\n",
    " *   in the first gen command, our randnumb variable is logged \n",
    " *   in the second, our new var is randnumb divided by 1000\n",
    "\n",
    "gen lnrandnumb = ln(randnumb)\n",
    "gen randnumb2 = randnumb/1000\n",
    "\n",
    "tabstat randnumb randnumb2 lnrandnumb, ///\n",
    "    statistics(n mean range) columns(statistics)"
   ]
  },
  {
   "cell_type": "markdown",
   "metadata": {},
   "source": [
    "### drop"
   ]
  },
  {
   "cell_type": "markdown",
   "metadata": {},
   "source": [
    "Use ***drop*** to delete variables. But, always be careful when doing so: if you delete a variable and then save your dataset, those changes will be lost forever. Again, always generate and delete variables using your script, _not the command line_. You can drop one or more variables at a time."
   ]
  },
  {
   "cell_type": "code",
   "execution_count": 6,
   "metadata": {},
   "outputs": [],
   "source": [
    "* Let's drop our new, unnecessary variables:\n",
    "drop category type "
   ]
  },
  {
   "cell_type": "markdown",
   "metadata": {},
   "source": [
    "## Changing variable values"
   ]
  },
  {
   "cell_type": "markdown",
   "metadata": {},
   "source": [
    "### recode"
   ]
  },
  {
   "cell_type": "markdown",
   "metadata": {},
   "source": [
    "The easiest way to change an existing variable's values is ***recode***. The syntax asks the user to assign a new value to one or more old values. Always use the ***gen(newvar)*** option to create a new variable instead of replacing the existing one. That way you can always recover (and understand) the coding change."
   ]
  },
  {
   "cell_type": "code",
   "execution_count": 7,
   "metadata": {},
   "outputs": [
    {
     "name": "stdout",
     "output_type": "stream",
     "text": [
      "\n",
      "\n",
      "--------------------------------------------------------------------------------\n",
      "raceth                                                    RACETH: Race/ethnicity\n",
      "--------------------------------------------------------------------------------\n",
      "\n",
      "                  type:  numeric (byte)\n",
      "                 label:  RACETH\n",
      "\n",
      "                 range:  [1,4]                        units:  1\n",
      "         unique values:  4                        missing .:  0/1,057\n",
      "\n",
      "            tabulation:  Freq.   Numeric  Label\n",
      "                           788         1  (1) White, non-Hispanic\n",
      "                            50         2  (2) African American,\n",
      "                                          non-Hispanic\n",
      "                           135         3  (3) Hispanic\n",
      "                            84         4  (4) Other\n",
      "\n",
      "(1057 differences between raceth and latinx)\n"
     ]
    }
   ],
   "source": [
    " * SYNTAX: recode oldvar (oldvalue = newvalue) (oldvalue=newvalue), gen(newvar)\n",
    " * Example: create an indicator variable for Latinx respondents by setting\n",
    " *    all those identifying as Latinx as 1 and all other respondents as 0\n",
    "codebook raceth\n",
    "recode raceth (1 2 4= 0)(3=1), gen(latinx)\n",
    "\n",
    " * alternatively, we could run:\n",
    " * recode raceth (1=0)(2=0)(3=1)(4=0), gen(latinx) "
   ]
  },
  {
   "cell_type": "code",
   "execution_count": 8,
   "metadata": {},
   "outputs": [
    {
     "name": "stdout",
     "output_type": "stream",
     "text": [
      "(1057 differences between randnumb and rand3cat)\n"
     ]
    }
   ],
   "source": [
    " * We can also recode a range of values using / :\n",
    "recode randnumb (0/.25=0)(.25/.5=1)(.5/.75=2)(.75/1=3), gen(rand3cat)"
   ]
  },
  {
   "cell_type": "markdown",
   "metadata": {},
   "source": [
    "### replace"
   ]
  },
  {
   "cell_type": "markdown",
   "metadata": {},
   "source": [
    "The ***replace*** command can reassign values of an existing variable. Let's create an indicator variable denoting Black respondents using a combination of ***gen*** and ***replace*** using _if_ to select specific observations."
   ]
  },
  {
   "cell_type": "code",
   "execution_count": 9,
   "metadata": {},
   "outputs": [
    {
     "name": "stdout",
     "output_type": "stream",
     "text": [
      "\n",
      "(1,057 missing values generated)\n",
      "\n",
      "(50 real changes made)\n",
      "\n",
      "(1,007 real changes made)\n",
      "\n",
      "\n",
      "--------------------------------------------------------------------------------\n",
      "black                                                                (unlabeled)\n",
      "--------------------------------------------------------------------------------\n",
      "\n",
      "                  type:  numeric (float)\n",
      "\n",
      "                 range:  [0,1]                        units:  1\n",
      "         unique values:  2                        missing .:  0/1,057\n",
      "\n",
      "            tabulation:  Freq.  Value\n",
      "                         1,007  0\n",
      "                            50  1\n"
     ]
    }
   ],
   "source": [
    "* first, create the new variable, setting all values to missing data (.)\n",
    "gen black = .\n",
    "\n",
    "* now set our Black respondents to equal 1 on the new variable. We\n",
    "*   can select Black respondents from the existing raceth variable\n",
    "replace black = 1 if raceth==2\n",
    "* now set the other respondents to 0. The \"|\" means \"or\"\n",
    "replace black = 0 if raceth ==1 | raceth==3 | raceth==4\n",
    "* check the new variable:\n",
    "codebook black"
   ]
  },
  {
   "cell_type": "markdown",
   "metadata": {},
   "source": [
    "## Labeling"
   ]
  },
  {
   "cell_type": "markdown",
   "metadata": {},
   "source": [
    "### label variable"
   ]
  },
  {
   "cell_type": "markdown",
   "metadata": {},
   "source": [
    "Variable labels are useful for data transparency and to guide the future you as you analyze the data. Labels will show up in the variable window in the Stata GUI as well as printed in the results window through the ***codebook*** and ***describe*** commands."
   ]
  },
  {
   "cell_type": "code",
   "execution_count": 10,
   "metadata": {},
   "outputs": [
    {
     "name": "stdout",
     "output_type": "stream",
     "text": [
      "\n",
      "\n",
      "\n",
      "\n",
      "              storage   display    value\n",
      "variable name   type    format     label      variable label\n",
      "--------------------------------------------------------------------------------\n",
      "latinx          byte    %9.0g                 Latinx respondent indicator\n",
      "                                                variable (Latinx = 1)\n",
      "black           float   %9.0g                 Black respondent indicator\n",
      "                                                variable (Black = 1)\n"
     ]
    }
   ],
   "source": [
    "* SYNTAX: label variable varname \"label\"\n",
    "label var latinx \"Latinx respondent indicator variable (Latinx = 1)\"\n",
    "label var black \"Black respondent indicator variable (Black = 1)\"\n",
    "describe latinx black"
   ]
  },
  {
   "cell_type": "markdown",
   "metadata": {},
   "source": [
    "### label define and label values"
   ]
  },
  {
   "cell_type": "markdown",
   "metadata": {},
   "source": [
    "Labeling values of a variable is a two-step process. The ***label define*** command creates a label that is saved with the dataset and then can be applied to any variable. ***label values*** attaches a label to a variable."
   ]
  },
  {
   "cell_type": "code",
   "execution_count": 11,
   "metadata": {},
   "outputs": [],
   "source": [
    "* SYNTAX: label define labelname value \"label\" value \"label\"\n",
    "* let's create a labels called blacklbl and latinxlbl:\n",
    "label define blacklbl 1 \"Black Respondent\" 0 \"Non-Black Respondent\"\n",
    "label define latinxlbl 1 \"Latinx Respondent\" 0 \"Non-Latinx Respondent\""
   ]
  },
  {
   "cell_type": "code",
   "execution_count": 12,
   "metadata": {},
   "outputs": [
    {
     "name": "stdout",
     "output_type": "stream",
     "text": [
      "\n",
      "\n",
      "\n",
      "\n",
      "              storage   display    value\n",
      "variable name   type    format     label      variable label\n",
      "--------------------------------------------------------------------------------\n",
      "latinx          byte    %21.0g     latinxlbl\n",
      "                                              Latinx respondent indicator\n",
      "                                                variable (Latinx = 1)\n",
      "black           float   %20.0g     blacklbl   Black respondent indicator\n",
      "                                                variable (Black = 1)\n"
     ]
    }
   ],
   "source": [
    "* SYNTAX: label values varname labelname\n",
    "* Now attach the labels to the variables:\n",
    "label values black blacklbl\n",
    "label values latinx latinxlbl \n",
    "\n",
    "* let's check out if the labeling worked. the value label names should \n",
    "*   show up in the value label column from the describe command below\n",
    "describe latinx black"
   ]
  }
 ],
 "metadata": {
  "kernelspec": {
   "display_name": "Stata",
   "language": "stata",
   "name": "stata"
  },
  "language_info": {
   "codemirror_mode": "stata",
   "file_extension": ".do",
   "mimetype": "text/x-stata",
   "name": "stata",
   "version": "15.1"
  }
 },
 "nbformat": 4,
 "nbformat_minor": 4
}
